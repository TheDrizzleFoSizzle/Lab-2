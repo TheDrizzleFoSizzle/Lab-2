{
 "cells": [
  {
   "cell_type": "code",
   "execution_count": 14,
   "id": "bc2f5620",
   "metadata": {},
   "outputs": [],
   "source": [
    "# This bit of code creates a random # for use in the program\n",
    "import random\n",
    "\n",
    "rand=random.randint(1,5)\n",
    "\n"
   ]
  },
  {
   "cell_type": "code",
   "execution_count": 15,
   "id": "4187efbc",
   "metadata": {},
   "outputs": [
    {
     "name": "stdout",
     "output_type": "stream",
     "text": [
      "lizard\n"
     ]
    }
   ],
   "source": [
    "# This section of code translates the random integer into a name from the game\n",
    "if rand == 1:\n",
    "    randout='spock'\n",
    "\n",
    "elif rand == 2:\n",
    "    randout = \"lizard\"\n",
    "    \n",
    "elif rand == 3:\n",
    "    randout = \"rock\"\n",
    "    \n",
    "elif rand == 4:\n",
    "    randout = \"paper\"\n",
    "    \n",
    "elif rand==5:\n",
    "    randout = \"scissors\"\n",
    "    \n",
    "#print(randout)\n",
    "    "
   ]
  },
  {
   "cell_type": "code",
   "execution_count": 16,
   "id": "4660c752",
   "metadata": {},
   "outputs": [
    {
     "name": "stdout",
     "output_type": "stream",
     "text": [
      "Please choose, rock, paper, scissors, lizard or SpockSpock\n",
      "Your choice was Spock .\n",
      "My choice was lizard .\n"
     ]
    }
   ],
   "source": [
    "# This bit of code allows the user to choose what to play as. \n",
    "\n",
    "choice = input(\"Please choose, rock, paper, scissors, lizard or Spock\")\n",
    "\n",
    "if choice ==\"spock\" or \"Spock\":\n",
    "    print(\"Your choice was\", choice,\".\")\n",
    "\n",
    "elif choice ==\"lizard\":\n",
    "    print(\"Your choice was\", choice,\".\")\n",
    "\n",
    "elif choice ==\"paper\":\n",
    "    print(\"Your choice was\", choice,\".\")    \n",
    "    \n",
    "elif choice ==\"rock\":\n",
    "    print(\"Your choice was\", choice,\".\")    \n",
    "    \n",
    "elif choice ==\"scissors\":\n",
    "    print(\"Your choice was\", choice,\".\")    \n",
    "\n",
    "print(\"My choice was\",randout,\".\")"
   ]
  },
  {
   "cell_type": "code",
   "execution_count": 27,
   "id": "d9201488",
   "metadata": {},
   "outputs": [
    {
     "name": "stdout",
     "output_type": "stream",
     "text": [
      "You lose.\n",
      "Good game. But, I am bored. Good Day!\n"
     ]
    }
   ],
   "source": [
    "# This bit of code should allow the program to tell if the user won or lost. \n",
    "\n",
    "if choice ==\"Spock\" and rand==(3 or 5):\n",
    "    print(\"You win.\")\n",
    "\n",
    "elif choice ==\"Spock\" and rand==(2 or 4):\n",
    "    print(\"You lose.\")\n",
    "    \n",
    "elif choice ==\"Spock\" and rand==1:\n",
    "    print(\"We tied.\")    \n",
    "\n",
    "elif choice ==\"paper\" and rand==(1 or 3):\n",
    "    print(\"You win.\")\n",
    "    \n",
    "elif choice ==\"paper\" and rand==(2 or 5):\n",
    "    print(\"You lose.\")\n",
    "    \n",
    "elif choice ==\"paper\" and rand==4:\n",
    "    print(\"We tied.\")      \n",
    "\n",
    "elif choice ==\"rock\" and rand==(2 or 5):\n",
    "    print(\"You win.\")\n",
    "\n",
    "elif choice ==\"rock\" and rand==(1 or 4):\n",
    "    print(\"You lose.\")\n",
    "    \n",
    "elif choice ==\"rock\" and rand==3:\n",
    "    print(\"We tied.\")      \n",
    "\n",
    "elif choice ==\"lizard\" and rand==(1 or 4):\n",
    "    print(\"You win.\")\n",
    "\n",
    "elif choice ==\"lizard\" and rand==(3 or 5):\n",
    "    print(\"You lose.\")\n",
    "    \n",
    "elif choice ==\"lizard\" and rand==2:\n",
    "    print(\"We tied.\")  \n",
    "    \n",
    "elif choice ==\"scissors\" and rand==(2 or 4):\n",
    "    print(\"You win.\")\n",
    "\n",
    "elif choice ==\"scissors\" and rand==(3 or 1):\n",
    "    print(\"You lose.\")\n",
    "    \n",
    "else:\n",
    "    print(\"We tied.\")      \n",
    "\n",
    "\n",
    "\n",
    "print(\"Good game. But, I am bored. Good Day!\")\n",
    "    \n",
    "    "
   ]
  },
  {
   "cell_type": "code",
   "execution_count": null,
   "id": "eb15bb2a",
   "metadata": {},
   "outputs": [],
   "source": []
  }
 ],
 "metadata": {
  "kernelspec": {
   "display_name": "Python 3 (ipykernel)",
   "language": "python",
   "name": "python3"
  },
  "language_info": {
   "codemirror_mode": {
    "name": "ipython",
    "version": 3
   },
   "file_extension": ".py",
   "mimetype": "text/x-python",
   "name": "python",
   "nbconvert_exporter": "python",
   "pygments_lexer": "ipython3",
   "version": "3.9.7"
  }
 },
 "nbformat": 4,
 "nbformat_minor": 5
}
